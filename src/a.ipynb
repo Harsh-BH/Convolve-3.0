{
 "cells": [
  {
   "cell_type": "code",
   "execution_count": 31,
   "metadata": {},
   "outputs": [],
   "source": [
    "import pandas as pd"
   ]
  },
  {
   "cell_type": "code",
   "execution_count": 42,
   "metadata": {},
   "outputs": [],
   "source": [
    "df1  = pd.read_csv(\"/home/harsh/Hackathons/Convolve/data/validation/validation_data_to_be_shared.csv\")\n",
    "# df2 = pd.read_csv(\"\")"
   ]
  },
  {
   "cell_type": "code",
   "execution_count": 43,
   "metadata": {},
   "outputs": [
    {
     "name": "stdout",
     "output_type": "stream",
     "text": [
      "Uncommon columns in file1: ['bad_flag']\n",
      "Uncommon columns in file2: []\n"
     ]
    }
   ],
   "source": [
    "import pandas as pd\n",
    "\n",
    "def find_uncommon_columns(file1_path, file2_path):\n",
    "    \"\"\"\n",
    "    Compares two CSV files and identifies columns that are not common between them.\n",
    "\n",
    "    Parameters:\n",
    "    file1_path (str): Path to the first CSV file.\n",
    "    file2_path (str): Path to the second CSV file.\n",
    "\n",
    "    Returns:\n",
    "    dict: A dictionary with keys 'uncommon_in_file1' and 'uncommon_in_file2',\n",
    "          containing lists of columns that are unique to each file respectively.\n",
    "    \"\"\"\n",
    "    try:\n",
    "        # Load the CSV files\n",
    "        df1 = pd.read_csv(file1_path)\n",
    "        df2 = pd.read_csv(file2_path)\n",
    "\n",
    "        # Get the column sets\n",
    "        columns_file1 = set(df1.columns)\n",
    "        columns_file2 = set(df2.columns)\n",
    "\n",
    "        # Find uncommon columns\n",
    "        uncommon_in_file1 = list(columns_file1 - columns_file2)\n",
    "        uncommon_in_file2 = list(columns_file2 - columns_file1)\n",
    "\n",
    "        return {\n",
    "            'uncommon_in_file1': uncommon_in_file1,\n",
    "            'uncommon_in_file2': uncommon_in_file2\n",
    "        }\n",
    "    except FileNotFoundError as e:\n",
    "        print(f\"Error: {e}\")\n",
    "        return None\n",
    "    except Exception as e:\n",
    "        print(f\"An error occurred: {e}\")\n",
    "        return None\n",
    "\n",
    "# Example usage\n",
    "result = find_uncommon_columns(\"/home/harsh/Hackathons/Convolve/data/dev/Dev_data_to_be_shared.csv\", \"/home/harsh/Hackathons/Convolve/data/validation/validation_data_to_be_shared.csv\")\n",
    "print(\"Uncommon columns in file1:\", result['uncommon_in_file1'])\n",
    "print(\"Uncommon columns in file2:\", result['uncommon_in_file2'])\n"
   ]
  },
  {
   "cell_type": "code",
   "execution_count": 45,
   "metadata": {},
   "outputs": [
    {
     "data": {
      "text/plain": [
       "(41792, 1215)"
      ]
     },
     "execution_count": 45,
     "metadata": {},
     "output_type": "execute_result"
    }
   ],
   "source": [
    "df1.shape"
   ]
  },
  {
   "cell_type": "code",
   "execution_count": 46,
   "metadata": {},
   "outputs": [],
   "source": [
    "from sklearn.preprocessing import LabelEncoder"
   ]
  },
  {
   "cell_type": "code",
   "execution_count": 47,
   "metadata": {},
   "outputs": [],
   "source": [
    "def encode_categorical_columns(df, categorical_cols):\n",
    "        binary_cols = [col for col in categorical_cols if df[col].nunique() == 2]\n",
    "        for col in binary_cols:\n",
    "            le = LabelEncoder()\n",
    "            df[col] = le.fit_transform(df[col])\n",
    "\n",
    "        multi_cat_cols = [col for col in categorical_cols if df[col].nunique() > 2]\n",
    "        df = pd.get_dummies(df, columns=multi_cat_cols, drop_first=True)\n",
    "        return df\n",
    "\n",
    "\n",
    "categorical_cols = df1.select_dtypes(include=['object', 'category']).columns.tolist()\n",
    "if 'bad_flag' in categorical_cols:\n",
    "    categorical_cols.remove('bad_flag')\n",
    "\n",
    "df1 = encode_categorical_columns(df1, categorical_cols)"
   ]
  },
  {
   "cell_type": "code",
   "execution_count": 48,
   "metadata": {},
   "outputs": [
    {
     "data": {
      "text/plain": [
       "(41792, 1215)"
      ]
     },
     "execution_count": 48,
     "metadata": {},
     "output_type": "execute_result"
    }
   ],
   "source": [
    "df1.shape"
   ]
  },
  {
   "cell_type": "code",
   "execution_count": 49,
   "metadata": {},
   "outputs": [],
   "source": [
    "def handle_missing_values(df, threshold=30000):\n",
    "        col_missing_counts = df.isnull().sum()\n",
    "        columns_to_drop = col_missing_counts[col_missing_counts > threshold].index\n",
    "        df = df.drop(columns=columns_to_drop)\n",
    "        return df\n",
    "df1 = handle_missing_values(df1)"
   ]
  },
  {
   "cell_type": "code",
   "execution_count": 53,
   "metadata": {},
   "outputs": [
    {
     "data": {
      "text/plain": [
       "(41792, 1199)"
      ]
     },
     "execution_count": 53,
     "metadata": {},
     "output_type": "execute_result"
    }
   ],
   "source": [
    "df1.shape"
   ]
  },
  {
   "cell_type": "code",
   "execution_count": 50,
   "metadata": {},
   "outputs": [],
   "source": [
    "numerical_cols = df1.select_dtypes(include=['int64', 'float64']).columns.tolist()"
   ]
  },
  {
   "cell_type": "code",
   "execution_count": 51,
   "metadata": {},
   "outputs": [],
   "source": [
    "len(numerical_cols)\n",
    "from sklearn.impute import SimpleImputer"
   ]
  },
  {
   "cell_type": "code",
   "execution_count": 52,
   "metadata": {},
   "outputs": [],
   "source": [
    "def impute_numerical_columns(df, numerical_cols):\n",
    "        imputer = SimpleImputer(strategy='median')\n",
    "        df[numerical_cols] = pd.DataFrame(\n",
    "            imputer.fit_transform(df[numerical_cols]),\n",
    "            columns=numerical_cols,\n",
    "            index=df.index\n",
    "        )\n",
    "        return df"
   ]
  },
  {
   "cell_type": "code",
   "execution_count": null,
   "metadata": {},
   "outputs": [
    {
     "name": "stderr",
     "output_type": "stream",
     "text": [
      "/home/harsh/Hackathons/Convolve/venv/lib/python3.12/site-packages/sklearn/impute/_base.py:577: UserWarning: Skipping features without any observed values: ['bureau_436' 'bureau_447']. At least one non-missing value is needed for imputation with strategy='median'.\n",
      "  warnings.warn(\n"
     ]
    },
    {
     "ename": "ValueError",
     "evalue": "Shape of passed values is (41792, 1213), indices imply (41792, 1215)",
     "output_type": "error",
     "traceback": [
      "\u001b[0;31m---------------------------------------------------------------------------\u001b[0m",
      "\u001b[0;31mValueError\u001b[0m                                Traceback (most recent call last)",
      "Cell \u001b[0;32mIn[30], line 1\u001b[0m\n\u001b[0;32m----> 1\u001b[0m df \u001b[38;5;241m=\u001b[39m \u001b[43mimpute_numerical_columns\u001b[49m\u001b[43m(\u001b[49m\u001b[43mdf1\u001b[49m\u001b[43m,\u001b[49m\u001b[43m \u001b[49m\u001b[43mnumerical_cols\u001b[49m\u001b[43m)\u001b[49m\n",
      "Cell \u001b[0;32mIn[29], line 3\u001b[0m, in \u001b[0;36mimpute_numerical_columns\u001b[0;34m(df, numerical_cols)\u001b[0m\n\u001b[1;32m      1\u001b[0m \u001b[38;5;28;01mdef\u001b[39;00m\u001b[38;5;250m \u001b[39m\u001b[38;5;21mimpute_numerical_columns\u001b[39m(df, numerical_cols):\n\u001b[1;32m      2\u001b[0m         imputer \u001b[38;5;241m=\u001b[39m SimpleImputer(strategy\u001b[38;5;241m=\u001b[39m\u001b[38;5;124m'\u001b[39m\u001b[38;5;124mmedian\u001b[39m\u001b[38;5;124m'\u001b[39m)\n\u001b[0;32m----> 3\u001b[0m         df[numerical_cols] \u001b[38;5;241m=\u001b[39m \u001b[43mpd\u001b[49m\u001b[38;5;241;43m.\u001b[39;49m\u001b[43mDataFrame\u001b[49m\u001b[43m(\u001b[49m\n\u001b[1;32m      4\u001b[0m \u001b[43m            \u001b[49m\u001b[43mimputer\u001b[49m\u001b[38;5;241;43m.\u001b[39;49m\u001b[43mfit_transform\u001b[49m\u001b[43m(\u001b[49m\u001b[43mdf\u001b[49m\u001b[43m[\u001b[49m\u001b[43mnumerical_cols\u001b[49m\u001b[43m]\u001b[49m\u001b[43m)\u001b[49m\u001b[43m,\u001b[49m\n\u001b[1;32m      5\u001b[0m \u001b[43m            \u001b[49m\u001b[43mcolumns\u001b[49m\u001b[38;5;241;43m=\u001b[39;49m\u001b[43mnumerical_cols\u001b[49m\u001b[43m,\u001b[49m\n\u001b[1;32m      6\u001b[0m \u001b[43m            \u001b[49m\u001b[43mindex\u001b[49m\u001b[38;5;241;43m=\u001b[39;49m\u001b[43mdf\u001b[49m\u001b[38;5;241;43m.\u001b[39;49m\u001b[43mindex\u001b[49m\n\u001b[1;32m      7\u001b[0m \u001b[43m        \u001b[49m\u001b[43m)\u001b[49m\n\u001b[1;32m      8\u001b[0m         \u001b[38;5;28;01mreturn\u001b[39;00m df\n",
      "File \u001b[0;32m~/Hackathons/Convolve/venv/lib/python3.12/site-packages/pandas/core/frame.py:782\u001b[0m, in \u001b[0;36mDataFrame.__init__\u001b[0;34m(self, data, index, columns, dtype, copy)\u001b[0m\n\u001b[1;32m    771\u001b[0m         mgr \u001b[38;5;241m=\u001b[39m dict_to_mgr(\n\u001b[1;32m    772\u001b[0m             \u001b[38;5;66;03m# error: Item \"ndarray\" of \"Union[ndarray, Series, Index]\" has no\u001b[39;00m\n\u001b[1;32m    773\u001b[0m             \u001b[38;5;66;03m# attribute \"name\"\u001b[39;00m\n\u001b[0;32m   (...)\u001b[0m\n\u001b[1;32m    779\u001b[0m             copy\u001b[38;5;241m=\u001b[39m_copy,\n\u001b[1;32m    780\u001b[0m         )\n\u001b[1;32m    781\u001b[0m     \u001b[38;5;28;01melse\u001b[39;00m:\n\u001b[0;32m--> 782\u001b[0m         mgr \u001b[38;5;241m=\u001b[39m \u001b[43mndarray_to_mgr\u001b[49m\u001b[43m(\u001b[49m\n\u001b[1;32m    783\u001b[0m \u001b[43m            \u001b[49m\u001b[43mdata\u001b[49m\u001b[43m,\u001b[49m\n\u001b[1;32m    784\u001b[0m \u001b[43m            \u001b[49m\u001b[43mindex\u001b[49m\u001b[43m,\u001b[49m\n\u001b[1;32m    785\u001b[0m \u001b[43m            \u001b[49m\u001b[43mcolumns\u001b[49m\u001b[43m,\u001b[49m\n\u001b[1;32m    786\u001b[0m \u001b[43m            \u001b[49m\u001b[43mdtype\u001b[49m\u001b[38;5;241;43m=\u001b[39;49m\u001b[43mdtype\u001b[49m\u001b[43m,\u001b[49m\n\u001b[1;32m    787\u001b[0m \u001b[43m            \u001b[49m\u001b[43mcopy\u001b[49m\u001b[38;5;241;43m=\u001b[39;49m\u001b[43mcopy\u001b[49m\u001b[43m,\u001b[49m\n\u001b[1;32m    788\u001b[0m \u001b[43m            \u001b[49m\u001b[43mtyp\u001b[49m\u001b[38;5;241;43m=\u001b[39;49m\u001b[43mmanager\u001b[49m\u001b[43m,\u001b[49m\n\u001b[1;32m    789\u001b[0m \u001b[43m        \u001b[49m\u001b[43m)\u001b[49m\n\u001b[1;32m    791\u001b[0m \u001b[38;5;66;03m# For data is list-like, or Iterable (will consume into list)\u001b[39;00m\n\u001b[1;32m    792\u001b[0m \u001b[38;5;28;01melif\u001b[39;00m is_list_like(data):\n",
      "File \u001b[0;32m~/Hackathons/Convolve/venv/lib/python3.12/site-packages/pandas/core/internals/construction.py:336\u001b[0m, in \u001b[0;36mndarray_to_mgr\u001b[0;34m(values, index, columns, dtype, copy, typ)\u001b[0m\n\u001b[1;32m    331\u001b[0m \u001b[38;5;66;03m# _prep_ndarraylike ensures that values.ndim == 2 at this point\u001b[39;00m\n\u001b[1;32m    332\u001b[0m index, columns \u001b[38;5;241m=\u001b[39m _get_axes(\n\u001b[1;32m    333\u001b[0m     values\u001b[38;5;241m.\u001b[39mshape[\u001b[38;5;241m0\u001b[39m], values\u001b[38;5;241m.\u001b[39mshape[\u001b[38;5;241m1\u001b[39m], index\u001b[38;5;241m=\u001b[39mindex, columns\u001b[38;5;241m=\u001b[39mcolumns\n\u001b[1;32m    334\u001b[0m )\n\u001b[0;32m--> 336\u001b[0m \u001b[43m_check_values_indices_shape_match\u001b[49m\u001b[43m(\u001b[49m\u001b[43mvalues\u001b[49m\u001b[43m,\u001b[49m\u001b[43m \u001b[49m\u001b[43mindex\u001b[49m\u001b[43m,\u001b[49m\u001b[43m \u001b[49m\u001b[43mcolumns\u001b[49m\u001b[43m)\u001b[49m\n\u001b[1;32m    338\u001b[0m \u001b[38;5;28;01mif\u001b[39;00m typ \u001b[38;5;241m==\u001b[39m \u001b[38;5;124m\"\u001b[39m\u001b[38;5;124marray\u001b[39m\u001b[38;5;124m\"\u001b[39m:\n\u001b[1;32m    339\u001b[0m     \u001b[38;5;28;01mif\u001b[39;00m \u001b[38;5;28missubclass\u001b[39m(values\u001b[38;5;241m.\u001b[39mdtype\u001b[38;5;241m.\u001b[39mtype, \u001b[38;5;28mstr\u001b[39m):\n",
      "File \u001b[0;32m~/Hackathons/Convolve/venv/lib/python3.12/site-packages/pandas/core/internals/construction.py:420\u001b[0m, in \u001b[0;36m_check_values_indices_shape_match\u001b[0;34m(values, index, columns)\u001b[0m\n\u001b[1;32m    418\u001b[0m passed \u001b[38;5;241m=\u001b[39m values\u001b[38;5;241m.\u001b[39mshape\n\u001b[1;32m    419\u001b[0m implied \u001b[38;5;241m=\u001b[39m (\u001b[38;5;28mlen\u001b[39m(index), \u001b[38;5;28mlen\u001b[39m(columns))\n\u001b[0;32m--> 420\u001b[0m \u001b[38;5;28;01mraise\u001b[39;00m \u001b[38;5;167;01mValueError\u001b[39;00m(\u001b[38;5;124mf\u001b[39m\u001b[38;5;124m\"\u001b[39m\u001b[38;5;124mShape of passed values is \u001b[39m\u001b[38;5;132;01m{\u001b[39;00mpassed\u001b[38;5;132;01m}\u001b[39;00m\u001b[38;5;124m, indices imply \u001b[39m\u001b[38;5;132;01m{\u001b[39;00mimplied\u001b[38;5;132;01m}\u001b[39;00m\u001b[38;5;124m\"\u001b[39m)\n",
      "\u001b[0;31mValueError\u001b[0m: Shape of passed values is (41792, 1213), indices imply (41792, 1215)"
     ]
    }
   ],
   "source": [
    "df = impute_numerical_columns(df1, numerical_cols)"
   ]
  },
  {
   "cell_type": "code",
   "execution_count": 5,
   "metadata": {},
   "outputs": [
    {
     "name": "stdout",
     "output_type": "stream",
     "text": [
      "df1 columns: ['account_number', 'onus_attribute_1', 'transaction_attribute_1', 'transaction_attribute_2', 'transaction_attribute_3', 'transaction_attribute_4', 'transaction_attribute_5', 'transaction_attribute_6', 'transaction_attribute_7', 'transaction_attribute_8', 'transaction_attribute_9', 'transaction_attribute_10', 'transaction_attribute_11', 'transaction_attribute_12', 'transaction_attribute_13', 'transaction_attribute_14', 'transaction_attribute_15', 'transaction_attribute_16', 'transaction_attribute_17', 'transaction_attribute_18', 'transaction_attribute_19', 'transaction_attribute_20', 'transaction_attribute_21', 'transaction_attribute_22', 'transaction_attribute_23', 'transaction_attribute_24', 'transaction_attribute_25', 'transaction_attribute_26', 'transaction_attribute_27', 'transaction_attribute_28', 'transaction_attribute_29', 'transaction_attribute_30', 'transaction_attribute_31', 'transaction_attribute_32', 'transaction_attribute_33', 'transaction_attribute_34', 'transaction_attribute_35', 'transaction_attribute_36', 'transaction_attribute_37', 'transaction_attribute_38', 'transaction_attribute_39', 'transaction_attribute_40', 'transaction_attribute_41', 'transaction_attribute_42', 'transaction_attribute_43', 'transaction_attribute_44', 'transaction_attribute_45', 'transaction_attribute_46', 'transaction_attribute_47', 'transaction_attribute_48', 'transaction_attribute_49', 'transaction_attribute_50', 'transaction_attribute_51', 'transaction_attribute_52', 'transaction_attribute_53', 'transaction_attribute_54', 'transaction_attribute_55', 'transaction_attribute_56', 'transaction_attribute_57', 'transaction_attribute_58', 'transaction_attribute_59', 'transaction_attribute_60', 'transaction_attribute_61', 'transaction_attribute_62', 'transaction_attribute_63', 'transaction_attribute_64', 'transaction_attribute_65', 'transaction_attribute_66', 'transaction_attribute_67', 'transaction_attribute_68', 'transaction_attribute_69', 'transaction_attribute_70', 'transaction_attribute_71', 'transaction_attribute_72', 'transaction_attribute_73', 'transaction_attribute_74', 'transaction_attribute_75', 'transaction_attribute_76', 'transaction_attribute_77', 'transaction_attribute_78', 'transaction_attribute_79', 'transaction_attribute_80', 'transaction_attribute_81', 'transaction_attribute_82', 'transaction_attribute_83', 'transaction_attribute_84', 'transaction_attribute_85', 'transaction_attribute_86', 'transaction_attribute_87', 'transaction_attribute_88', 'transaction_attribute_89', 'transaction_attribute_90', 'transaction_attribute_91', 'transaction_attribute_92', 'transaction_attribute_93', 'transaction_attribute_94', 'transaction_attribute_95', 'transaction_attribute_96', 'transaction_attribute_97', 'transaction_attribute_98', 'transaction_attribute_99', 'transaction_attribute_100', 'transaction_attribute_101', 'transaction_attribute_102', 'transaction_attribute_103', 'transaction_attribute_104', 'transaction_attribute_105', 'transaction_attribute_106', 'transaction_attribute_107', 'transaction_attribute_108', 'transaction_attribute_109', 'transaction_attribute_110', 'transaction_attribute_111', 'transaction_attribute_112', 'transaction_attribute_113', 'transaction_attribute_114', 'transaction_attribute_115', 'transaction_attribute_116', 'transaction_attribute_117', 'transaction_attribute_118', 'transaction_attribute_119', 'transaction_attribute_120', 'transaction_attribute_121', 'transaction_attribute_122', 'transaction_attribute_123', 'transaction_attribute_124', 'transaction_attribute_125', 'transaction_attribute_126', 'transaction_attribute_127', 'transaction_attribute_128', 'transaction_attribute_129', 'transaction_attribute_130', 'transaction_attribute_131', 'transaction_attribute_132', 'transaction_attribute_133', 'transaction_attribute_134', 'transaction_attribute_135', 'transaction_attribute_136', 'transaction_attribute_137', 'transaction_attribute_138', 'transaction_attribute_139', 'transaction_attribute_140', 'transaction_attribute_141', 'transaction_attribute_142', 'transaction_attribute_143', 'transaction_attribute_144', 'transaction_attribute_145', 'transaction_attribute_146', 'transaction_attribute_147', 'transaction_attribute_148', 'transaction_attribute_149', 'transaction_attribute_150', 'transaction_attribute_151', 'transaction_attribute_152', 'transaction_attribute_153', 'transaction_attribute_154', 'transaction_attribute_155', 'transaction_attribute_156', 'transaction_attribute_157', 'transaction_attribute_158', 'transaction_attribute_159', 'transaction_attribute_160', 'transaction_attribute_161', 'transaction_attribute_162', 'transaction_attribute_163', 'transaction_attribute_164', 'transaction_attribute_165', 'transaction_attribute_166', 'transaction_attribute_167', 'transaction_attribute_168', 'transaction_attribute_169', 'transaction_attribute_170', 'transaction_attribute_171', 'transaction_attribute_172', 'transaction_attribute_173', 'transaction_attribute_174', 'transaction_attribute_175', 'transaction_attribute_176', 'transaction_attribute_177', 'transaction_attribute_178', 'transaction_attribute_179', 'transaction_attribute_180', 'transaction_attribute_181', 'transaction_attribute_182', 'transaction_attribute_183', 'transaction_attribute_184', 'transaction_attribute_185', 'transaction_attribute_186', 'transaction_attribute_187', 'transaction_attribute_188', 'transaction_attribute_189', 'transaction_attribute_190', 'transaction_attribute_191', 'transaction_attribute_192', 'transaction_attribute_193', 'transaction_attribute_194', 'transaction_attribute_195', 'transaction_attribute_196', 'transaction_attribute_197', 'transaction_attribute_198', 'transaction_attribute_199', 'transaction_attribute_200', 'transaction_attribute_201', 'transaction_attribute_202', 'transaction_attribute_203', 'transaction_attribute_204', 'transaction_attribute_205', 'transaction_attribute_206', 'transaction_attribute_207', 'transaction_attribute_208', 'transaction_attribute_209', 'transaction_attribute_210', 'transaction_attribute_211', 'transaction_attribute_212', 'transaction_attribute_213', 'transaction_attribute_214', 'transaction_attribute_215', 'transaction_attribute_216', 'transaction_attribute_217', 'transaction_attribute_218', 'transaction_attribute_219', 'transaction_attribute_220', 'transaction_attribute_221', 'transaction_attribute_222', 'transaction_attribute_223', 'transaction_attribute_224', 'transaction_attribute_225', 'transaction_attribute_226', 'transaction_attribute_227', 'transaction_attribute_228', 'transaction_attribute_229', 'transaction_attribute_230', 'transaction_attribute_231', 'transaction_attribute_232', 'transaction_attribute_233', 'transaction_attribute_234', 'transaction_attribute_235', 'transaction_attribute_236', 'transaction_attribute_237', 'transaction_attribute_238', 'transaction_attribute_239', 'transaction_attribute_240', 'transaction_attribute_241', 'transaction_attribute_242', 'transaction_attribute_243', 'transaction_attribute_244', 'transaction_attribute_245', 'transaction_attribute_246', 'transaction_attribute_247', 'transaction_attribute_248', 'transaction_attribute_249', 'transaction_attribute_250', 'transaction_attribute_251', 'transaction_attribute_252', 'transaction_attribute_253', 'transaction_attribute_254', 'transaction_attribute_255', 'transaction_attribute_256', 'transaction_attribute_257', 'transaction_attribute_258', 'transaction_attribute_259', 'transaction_attribute_260', 'transaction_attribute_261', 'transaction_attribute_262', 'transaction_attribute_263', 'transaction_attribute_264', 'transaction_attribute_265', 'transaction_attribute_266', 'transaction_attribute_267', 'transaction_attribute_268', 'transaction_attribute_269', 'transaction_attribute_270', 'transaction_attribute_271', 'transaction_attribute_272', 'transaction_attribute_273', 'transaction_attribute_274', 'transaction_attribute_275', 'transaction_attribute_276', 'transaction_attribute_277', 'transaction_attribute_278', 'transaction_attribute_279', 'transaction_attribute_280', 'transaction_attribute_281', 'transaction_attribute_282', 'transaction_attribute_283', 'transaction_attribute_284', 'transaction_attribute_285', 'transaction_attribute_286', 'transaction_attribute_287', 'transaction_attribute_288', 'transaction_attribute_289', 'transaction_attribute_290', 'transaction_attribute_291', 'transaction_attribute_292', 'transaction_attribute_293', 'transaction_attribute_294', 'transaction_attribute_295', 'transaction_attribute_296', 'transaction_attribute_297', 'transaction_attribute_298', 'transaction_attribute_299', 'transaction_attribute_300', 'transaction_attribute_301', 'transaction_attribute_302', 'transaction_attribute_303', 'transaction_attribute_304', 'transaction_attribute_305', 'transaction_attribute_306', 'transaction_attribute_307', 'transaction_attribute_308', 'transaction_attribute_309', 'transaction_attribute_310', 'transaction_attribute_311', 'transaction_attribute_312', 'transaction_attribute_313', 'transaction_attribute_314', 'transaction_attribute_315', 'transaction_attribute_316', 'transaction_attribute_317', 'transaction_attribute_318', 'transaction_attribute_319', 'transaction_attribute_320', 'transaction_attribute_321', 'transaction_attribute_322', 'transaction_attribute_323', 'transaction_attribute_324', 'transaction_attribute_325', 'transaction_attribute_326', 'transaction_attribute_327', 'transaction_attribute_328', 'transaction_attribute_329', 'transaction_attribute_330', 'transaction_attribute_331', 'transaction_attribute_332', 'transaction_attribute_333', 'transaction_attribute_334', 'transaction_attribute_335', 'transaction_attribute_336', 'transaction_attribute_337', 'transaction_attribute_338', 'transaction_attribute_339', 'transaction_attribute_340', 'transaction_attribute_341', 'transaction_attribute_342', 'transaction_attribute_343', 'transaction_attribute_344', 'transaction_attribute_345', 'transaction_attribute_346', 'transaction_attribute_347', 'transaction_attribute_348', 'transaction_attribute_349', 'transaction_attribute_350', 'transaction_attribute_351', 'transaction_attribute_352', 'transaction_attribute_353', 'transaction_attribute_354', 'transaction_attribute_355', 'transaction_attribute_356', 'transaction_attribute_357', 'transaction_attribute_358', 'transaction_attribute_359', 'transaction_attribute_360', 'transaction_attribute_361', 'transaction_attribute_362', 'transaction_attribute_363', 'transaction_attribute_364', 'transaction_attribute_365', 'transaction_attribute_366', 'transaction_attribute_367', 'transaction_attribute_368', 'transaction_attribute_369', 'transaction_attribute_370', 'transaction_attribute_371', 'transaction_attribute_372', 'transaction_attribute_373', 'transaction_attribute_374', 'transaction_attribute_375', 'transaction_attribute_376', 'transaction_attribute_377', 'transaction_attribute_378', 'transaction_attribute_379', 'transaction_attribute_380', 'transaction_attribute_381', 'transaction_attribute_382', 'transaction_attribute_383', 'transaction_attribute_384', 'transaction_attribute_385', 'transaction_attribute_386', 'transaction_attribute_387', 'transaction_attribute_388', 'transaction_attribute_389', 'transaction_attribute_390', 'transaction_attribute_391', 'transaction_attribute_392', 'transaction_attribute_393', 'transaction_attribute_394', 'transaction_attribute_395', 'transaction_attribute_396', 'transaction_attribute_397', 'transaction_attribute_398', 'transaction_attribute_399', 'transaction_attribute_400', 'transaction_attribute_401', 'transaction_attribute_402', 'transaction_attribute_403', 'transaction_attribute_404', 'transaction_attribute_405', 'transaction_attribute_406', 'transaction_attribute_407', 'transaction_attribute_408', 'transaction_attribute_409', 'transaction_attribute_410', 'transaction_attribute_411', 'transaction_attribute_412', 'transaction_attribute_413', 'transaction_attribute_414', 'transaction_attribute_415', 'transaction_attribute_416', 'transaction_attribute_417', 'transaction_attribute_418', 'transaction_attribute_419', 'transaction_attribute_420', 'transaction_attribute_421', 'transaction_attribute_422', 'transaction_attribute_423', 'transaction_attribute_424', 'transaction_attribute_425', 'transaction_attribute_426', 'transaction_attribute_427', 'transaction_attribute_428', 'transaction_attribute_429', 'transaction_attribute_430', 'transaction_attribute_431', 'transaction_attribute_432', 'transaction_attribute_433', 'transaction_attribute_434', 'transaction_attribute_435', 'transaction_attribute_436', 'transaction_attribute_437', 'transaction_attribute_438', 'transaction_attribute_439', 'transaction_attribute_440', 'transaction_attribute_441', 'transaction_attribute_442', 'transaction_attribute_443', 'transaction_attribute_444', 'transaction_attribute_445', 'transaction_attribute_446', 'transaction_attribute_447', 'transaction_attribute_448', 'transaction_attribute_449', 'transaction_attribute_450', 'transaction_attribute_451', 'transaction_attribute_452', 'transaction_attribute_453', 'transaction_attribute_454', 'transaction_attribute_455', 'transaction_attribute_456', 'transaction_attribute_457', 'transaction_attribute_458', 'transaction_attribute_459', 'transaction_attribute_460', 'transaction_attribute_461', 'transaction_attribute_462', 'transaction_attribute_463', 'transaction_attribute_464', 'transaction_attribute_465', 'transaction_attribute_466', 'transaction_attribute_467', 'transaction_attribute_468', 'transaction_attribute_469', 'transaction_attribute_470', 'transaction_attribute_471', 'transaction_attribute_472', 'transaction_attribute_473', 'transaction_attribute_474', 'transaction_attribute_475', 'transaction_attribute_476', 'transaction_attribute_477', 'transaction_attribute_478', 'transaction_attribute_479', 'transaction_attribute_480', 'transaction_attribute_481', 'transaction_attribute_482', 'transaction_attribute_483', 'transaction_attribute_484', 'transaction_attribute_485', 'transaction_attribute_486', 'transaction_attribute_487', 'transaction_attribute_488', 'transaction_attribute_489', 'transaction_attribute_490', 'transaction_attribute_491', 'transaction_attribute_492', 'transaction_attribute_493', 'transaction_attribute_494', 'transaction_attribute_495', 'transaction_attribute_496', 'transaction_attribute_497', 'transaction_attribute_498', 'transaction_attribute_499', 'transaction_attribute_500', 'transaction_attribute_501', 'transaction_attribute_502', 'transaction_attribute_503', 'transaction_attribute_504', 'transaction_attribute_505', 'transaction_attribute_506', 'transaction_attribute_507', 'transaction_attribute_508', 'transaction_attribute_509', 'transaction_attribute_510', 'transaction_attribute_511', 'transaction_attribute_512', 'transaction_attribute_513', 'transaction_attribute_514', 'transaction_attribute_515', 'transaction_attribute_516', 'transaction_attribute_517', 'transaction_attribute_518', 'transaction_attribute_519', 'transaction_attribute_520', 'transaction_attribute_521', 'transaction_attribute_522', 'transaction_attribute_523', 'transaction_attribute_524', 'transaction_attribute_525', 'transaction_attribute_526', 'transaction_attribute_527', 'transaction_attribute_528', 'transaction_attribute_529', 'transaction_attribute_530', 'transaction_attribute_531', 'transaction_attribute_532', 'transaction_attribute_533', 'transaction_attribute_534', 'transaction_attribute_535', 'transaction_attribute_536', 'transaction_attribute_537', 'transaction_attribute_538', 'transaction_attribute_539', 'transaction_attribute_540', 'transaction_attribute_541', 'transaction_attribute_542', 'transaction_attribute_543', 'transaction_attribute_544', 'transaction_attribute_545', 'transaction_attribute_546', 'transaction_attribute_547', 'transaction_attribute_548', 'transaction_attribute_549', 'transaction_attribute_550', 'transaction_attribute_551', 'transaction_attribute_552', 'transaction_attribute_553', 'transaction_attribute_554', 'transaction_attribute_555', 'transaction_attribute_556', 'transaction_attribute_557', 'transaction_attribute_558', 'transaction_attribute_559', 'transaction_attribute_560', 'transaction_attribute_561', 'transaction_attribute_562', 'transaction_attribute_563', 'transaction_attribute_564', 'transaction_attribute_565', 'transaction_attribute_566', 'transaction_attribute_567', 'transaction_attribute_568', 'transaction_attribute_569', 'transaction_attribute_570', 'transaction_attribute_571', 'transaction_attribute_572', 'transaction_attribute_573', 'transaction_attribute_574', 'transaction_attribute_575', 'transaction_attribute_576', 'transaction_attribute_577', 'transaction_attribute_578', 'transaction_attribute_579', 'transaction_attribute_580', 'transaction_attribute_581', 'transaction_attribute_582', 'transaction_attribute_583', 'transaction_attribute_584', 'transaction_attribute_585', 'transaction_attribute_586', 'transaction_attribute_587', 'transaction_attribute_588', 'transaction_attribute_589', 'transaction_attribute_590', 'transaction_attribute_591', 'transaction_attribute_592', 'transaction_attribute_593', 'transaction_attribute_594', 'transaction_attribute_595', 'transaction_attribute_596', 'transaction_attribute_597', 'transaction_attribute_598', 'transaction_attribute_599', 'transaction_attribute_600', 'transaction_attribute_601', 'transaction_attribute_602', 'transaction_attribute_603', 'transaction_attribute_604', 'transaction_attribute_605', 'transaction_attribute_606', 'transaction_attribute_607', 'transaction_attribute_608', 'transaction_attribute_609', 'transaction_attribute_610', 'transaction_attribute_611', 'transaction_attribute_612', 'transaction_attribute_613', 'transaction_attribute_614', 'transaction_attribute_615', 'transaction_attribute_616', 'transaction_attribute_617', 'transaction_attribute_618', 'transaction_attribute_619', 'transaction_attribute_620', 'transaction_attribute_621', 'transaction_attribute_622', 'transaction_attribute_623', 'transaction_attribute_624', 'transaction_attribute_625', 'transaction_attribute_626', 'transaction_attribute_627', 'transaction_attribute_628', 'transaction_attribute_629', 'transaction_attribute_630', 'transaction_attribute_631', 'transaction_attribute_632', 'transaction_attribute_633', 'transaction_attribute_634', 'transaction_attribute_635', 'transaction_attribute_636', 'transaction_attribute_637', 'transaction_attribute_638', 'transaction_attribute_639', 'transaction_attribute_640', 'transaction_attribute_641', 'transaction_attribute_642', 'transaction_attribute_643', 'transaction_attribute_644', 'transaction_attribute_645', 'transaction_attribute_646', 'transaction_attribute_647', 'transaction_attribute_648', 'transaction_attribute_649', 'transaction_attribute_650', 'transaction_attribute_651', 'transaction_attribute_652', 'transaction_attribute_653', 'transaction_attribute_654', 'transaction_attribute_655', 'transaction_attribute_656', 'transaction_attribute_657', 'transaction_attribute_658', 'transaction_attribute_659', 'transaction_attribute_660', 'transaction_attribute_661', 'transaction_attribute_662', 'transaction_attribute_663', 'transaction_attribute_664', 'bureau_1', 'bureau_2', 'bureau_3', 'bureau_4', 'bureau_5', 'bureau_6', 'bureau_7', 'bureau_8', 'bureau_9', 'bureau_10', 'bureau_11', 'bureau_12', 'bureau_13', 'bureau_14', 'bureau_15', 'bureau_16', 'bureau_17', 'bureau_18', 'bureau_19', 'bureau_20', 'bureau_21', 'bureau_22', 'bureau_23', 'bureau_24', 'bureau_25', 'bureau_26', 'bureau_27', 'bureau_28', 'bureau_29', 'bureau_30', 'bureau_31', 'bureau_32', 'bureau_33', 'bureau_34', 'bureau_35', 'bureau_36', 'bureau_37', 'bureau_38', 'bureau_39', 'bureau_40', 'bureau_41', 'bureau_42', 'bureau_43', 'bureau_44', 'bureau_45', 'bureau_46', 'bureau_47', 'bureau_48', 'bureau_49', 'bureau_50', 'bureau_51', 'bureau_52', 'bureau_53', 'bureau_54', 'bureau_55', 'bureau_56', 'bureau_57', 'bureau_58', 'bureau_59', 'bureau_60', 'bureau_61', 'bureau_62', 'bureau_63', 'bureau_64', 'bureau_65', 'bureau_66', 'bureau_67', 'bureau_68', 'bureau_69', 'bureau_70', 'bureau_71', 'bureau_72', 'bureau_73', 'bureau_74', 'bureau_75', 'bureau_76', 'bureau_77', 'bureau_78', 'bureau_79', 'bureau_80', 'bureau_81', 'bureau_82', 'bureau_83', 'bureau_84', 'bureau_85', 'bureau_86', 'bureau_87', 'bureau_88', 'bureau_89', 'bureau_90', 'bureau_91', 'bureau_92', 'bureau_93', 'bureau_94', 'bureau_95', 'bureau_96', 'bureau_97', 'bureau_98', 'bureau_99', 'bureau_100', 'bureau_101', 'bureau_102', 'bureau_103', 'bureau_104', 'bureau_105', 'bureau_106', 'bureau_107', 'bureau_108', 'bureau_109', 'bureau_110', 'bureau_111', 'bureau_112', 'bureau_113', 'bureau_114', 'bureau_115', 'bureau_116', 'bureau_117', 'bureau_118', 'bureau_119', 'bureau_120', 'bureau_121', 'bureau_122', 'bureau_123', 'bureau_124', 'bureau_125', 'bureau_126', 'bureau_127', 'bureau_128', 'bureau_129', 'bureau_130', 'bureau_131', 'bureau_132', 'bureau_133', 'bureau_134', 'bureau_135', 'bureau_136', 'bureau_137', 'bureau_138', 'bureau_139', 'bureau_140', 'bureau_141', 'bureau_142', 'bureau_143', 'bureau_144', 'bureau_145', 'bureau_146', 'bureau_147', 'bureau_148', 'bureau_149', 'bureau_150', 'bureau_151', 'bureau_152', 'bureau_153', 'bureau_154', 'bureau_155', 'bureau_156', 'bureau_157', 'bureau_158', 'bureau_159', 'bureau_160', 'bureau_161', 'bureau_162', 'bureau_163', 'bureau_164', 'bureau_165', 'bureau_166', 'bureau_167', 'bureau_168', 'bureau_169', 'bureau_170', 'bureau_171', 'bureau_172', 'bureau_173', 'bureau_174', 'bureau_175', 'bureau_176', 'bureau_177', 'bureau_178', 'bureau_179', 'bureau_180', 'bureau_181', 'bureau_182', 'bureau_183', 'bureau_184', 'bureau_185', 'bureau_186', 'bureau_187', 'bureau_188', 'bureau_189', 'bureau_190', 'bureau_191', 'bureau_192', 'bureau_193', 'bureau_194', 'bureau_195', 'bureau_196', 'bureau_197', 'bureau_198', 'bureau_199', 'bureau_200', 'bureau_201', 'bureau_202', 'bureau_203', 'bureau_204', 'bureau_205', 'bureau_206', 'bureau_207', 'bureau_208', 'bureau_209', 'bureau_210', 'bureau_211', 'bureau_212', 'bureau_213', 'bureau_214', 'bureau_215', 'bureau_216', 'bureau_217', 'bureau_218', 'bureau_219', 'bureau_220', 'bureau_221', 'bureau_222', 'bureau_223', 'bureau_224', 'bureau_225', 'bureau_226', 'bureau_227', 'bureau_228', 'bureau_229', 'bureau_230', 'bureau_231', 'bureau_232', 'bureau_233', 'bureau_234', 'bureau_235', 'bureau_236', 'bureau_237', 'bureau_238', 'bureau_239', 'bureau_240', 'bureau_241', 'bureau_242', 'bureau_243', 'bureau_244', 'bureau_245', 'bureau_246', 'bureau_247', 'bureau_248', 'bureau_249', 'bureau_250', 'bureau_251', 'bureau_252', 'bureau_253', 'bureau_254', 'bureau_255', 'bureau_256', 'bureau_257', 'bureau_258', 'bureau_259', 'bureau_260', 'bureau_261', 'bureau_262', 'bureau_263', 'bureau_264', 'bureau_265', 'bureau_266', 'bureau_267', 'bureau_268', 'bureau_269', 'bureau_270', 'bureau_271', 'bureau_272', 'bureau_273', 'bureau_274', 'bureau_275', 'bureau_276', 'bureau_277', 'bureau_278', 'bureau_279', 'bureau_280', 'bureau_281', 'bureau_282', 'bureau_283', 'bureau_284', 'bureau_285', 'bureau_286', 'bureau_287', 'bureau_288', 'bureau_289', 'bureau_290', 'bureau_291', 'bureau_292', 'bureau_293', 'bureau_294', 'bureau_295', 'bureau_296', 'bureau_297', 'bureau_298', 'bureau_299', 'bureau_300', 'bureau_301', 'bureau_302', 'bureau_303', 'bureau_304', 'bureau_305', 'bureau_306', 'bureau_307', 'bureau_308', 'bureau_309', 'bureau_310', 'bureau_311', 'bureau_312', 'bureau_313', 'bureau_314', 'bureau_315', 'bureau_316', 'bureau_317', 'bureau_318', 'bureau_319', 'bureau_320', 'bureau_321', 'bureau_322', 'bureau_323', 'bureau_324', 'bureau_325', 'bureau_326', 'bureau_327', 'bureau_328', 'bureau_329', 'bureau_330', 'bureau_331', 'bureau_332', 'bureau_333', 'bureau_334', 'bureau_335', 'bureau_336', 'bureau_337', 'bureau_338', 'bureau_339', 'bureau_340', 'bureau_341', 'bureau_342', 'bureau_343', 'bureau_344', 'bureau_345', 'bureau_346', 'bureau_347', 'bureau_348', 'bureau_349', 'bureau_350', 'bureau_351', 'bureau_352', 'bureau_353', 'bureau_354', 'bureau_355', 'bureau_356', 'bureau_357', 'bureau_358', 'bureau_359', 'bureau_360', 'bureau_361', 'bureau_362', 'bureau_363', 'bureau_364', 'bureau_365', 'bureau_366', 'bureau_367', 'bureau_368', 'bureau_369', 'bureau_370', 'bureau_371', 'bureau_372', 'bureau_373', 'bureau_374', 'bureau_375', 'bureau_376', 'bureau_377', 'bureau_378', 'bureau_379', 'bureau_380', 'bureau_381', 'bureau_382', 'bureau_383', 'bureau_384', 'bureau_385', 'bureau_386', 'bureau_387', 'bureau_388', 'bureau_389', 'bureau_390', 'bureau_391', 'bureau_392', 'bureau_393', 'bureau_394', 'bureau_395', 'bureau_396', 'bureau_397', 'bureau_398', 'bureau_399', 'bureau_400', 'bureau_401', 'bureau_402', 'bureau_403', 'bureau_404', 'bureau_405', 'bureau_406', 'bureau_407', 'bureau_408', 'bureau_409', 'bureau_410', 'bureau_411', 'bureau_412', 'bureau_413', 'bureau_414', 'bureau_415', 'bureau_416', 'bureau_417', 'bureau_418', 'bureau_419', 'bureau_420', 'bureau_421', 'bureau_422', 'bureau_423', 'bureau_424', 'bureau_425', 'bureau_426', 'bureau_427', 'bureau_428', 'bureau_429', 'bureau_430', 'bureau_431', 'bureau_432', 'bureau_433', 'bureau_434', 'bureau_435', 'bureau_436', 'bureau_437', 'bureau_438', 'bureau_439', 'bureau_440', 'bureau_441', 'bureau_442', 'bureau_443', 'bureau_444', 'bureau_445', 'bureau_446', 'bureau_447', 'bureau_448', 'bureau_449', 'bureau_450', 'bureau_451', 'bureau_452', 'onus_attribute_2', 'onus_attribute_3', 'onus_attribute_4', 'onus_attribute_5', 'onus_attribute_6', 'onus_attribute_7', 'onus_attribute_8', 'onus_attribute_9', 'onus_attribute_10', 'onus_attribute_11', 'onus_attribute_12', 'onus_attribute_13', 'onus_attribute_14', 'onus_attribute_15', 'onus_attribute_16', 'onus_attribute_17', 'onus_attribute_18', 'onus_attribute_19', 'onus_attribute_20', 'onus_attribute_21', 'onus_attribute_22', 'onus_attribute_23', 'onus_attribute_24', 'onus_attribute_25', 'onus_attribute_26', 'onus_attribute_27', 'onus_attribute_28', 'onus_attribute_29', 'onus_attribute_30', 'onus_attribute_31', 'onus_attribute_32', 'onus_attribute_33', 'onus_attribute_34', 'onus_attribute_35', 'onus_attribute_36', 'onus_attribute_37', 'onus_attribute_38', 'onus_attribute_39', 'onus_attribute_40', 'onus_attribute_41', 'onus_attribute_42', 'bureau_enquiry_1', 'bureau_enquiry_2', 'bureau_enquiry_3', 'bureau_enquiry_4', 'bureau_enquiry_5', 'bureau_enquiry_6', 'bureau_enquiry_7', 'bureau_enquiry_8', 'bureau_enquiry_9', 'bureau_enquiry_10', 'bureau_enquiry_11', 'bureau_enquiry_12', 'bureau_enquiry_13', 'bureau_enquiry_14', 'bureau_enquiry_15', 'bureau_enquiry_16', 'bureau_enquiry_17', 'bureau_enquiry_18', 'bureau_enquiry_19', 'bureau_enquiry_20', 'bureau_enquiry_21', 'bureau_enquiry_22', 'bureau_enquiry_23', 'bureau_enquiry_24', 'bureau_enquiry_25', 'bureau_enquiry_26', 'bureau_enquiry_27', 'bureau_enquiry_28', 'bureau_enquiry_29', 'bureau_enquiry_30', 'bureau_enquiry_31', 'bureau_enquiry_32', 'bureau_enquiry_33', 'bureau_enquiry_34', 'bureau_enquiry_35', 'bureau_enquiry_36', 'bureau_enquiry_37', 'bureau_enquiry_38', 'bureau_enquiry_39', 'bureau_enquiry_40', 'bureau_enquiry_41', 'bureau_enquiry_42', 'bureau_enquiry_43', 'bureau_enquiry_44', 'bureau_enquiry_45', 'bureau_enquiry_46', 'bureau_enquiry_47', 'bureau_enquiry_48', 'bureau_enquiry_49', 'bureau_enquiry_50', 'onus_attribute_43', 'onus_attribute_44', 'onus_attribute_45', 'onus_attribute_46', 'onus_attribute_47', 'onus_attribute_48', 'bad_flag']\n",
      "df2 columns: ['account_number', 'onus_attribute_1', 'transaction_attribute_1', 'transaction_attribute_2', 'transaction_attribute_3', 'transaction_attribute_4', 'transaction_attribute_5', 'transaction_attribute_6', 'transaction_attribute_7', 'transaction_attribute_8', 'transaction_attribute_9', 'transaction_attribute_10', 'transaction_attribute_11', 'transaction_attribute_12', 'transaction_attribute_13', 'transaction_attribute_14', 'transaction_attribute_15', 'transaction_attribute_16', 'transaction_attribute_17', 'transaction_attribute_18', 'transaction_attribute_19', 'transaction_attribute_20', 'transaction_attribute_21', 'transaction_attribute_22', 'transaction_attribute_23', 'transaction_attribute_24', 'transaction_attribute_25', 'transaction_attribute_26', 'transaction_attribute_27', 'transaction_attribute_28', 'transaction_attribute_29', 'transaction_attribute_30', 'transaction_attribute_31', 'transaction_attribute_32', 'transaction_attribute_33', 'transaction_attribute_34', 'transaction_attribute_35', 'transaction_attribute_36', 'transaction_attribute_37', 'transaction_attribute_38', 'transaction_attribute_39', 'transaction_attribute_40', 'transaction_attribute_41', 'transaction_attribute_42', 'transaction_attribute_43', 'transaction_attribute_44', 'transaction_attribute_45', 'transaction_attribute_46', 'transaction_attribute_47', 'transaction_attribute_48', 'transaction_attribute_49', 'transaction_attribute_50', 'transaction_attribute_51', 'transaction_attribute_52', 'transaction_attribute_53', 'transaction_attribute_54', 'transaction_attribute_55', 'transaction_attribute_56', 'transaction_attribute_57', 'transaction_attribute_58', 'transaction_attribute_59', 'transaction_attribute_60', 'transaction_attribute_61', 'transaction_attribute_62', 'transaction_attribute_63', 'transaction_attribute_64', 'transaction_attribute_65', 'transaction_attribute_66', 'transaction_attribute_67', 'transaction_attribute_68', 'transaction_attribute_69', 'transaction_attribute_70', 'transaction_attribute_71', 'transaction_attribute_72', 'transaction_attribute_73', 'transaction_attribute_74', 'transaction_attribute_75', 'transaction_attribute_76', 'transaction_attribute_77', 'transaction_attribute_78', 'transaction_attribute_79', 'transaction_attribute_80', 'transaction_attribute_81', 'transaction_attribute_82', 'transaction_attribute_83', 'transaction_attribute_84', 'transaction_attribute_85', 'transaction_attribute_86', 'transaction_attribute_87', 'transaction_attribute_88', 'transaction_attribute_89', 'transaction_attribute_90', 'transaction_attribute_91', 'transaction_attribute_92', 'transaction_attribute_93', 'transaction_attribute_94', 'transaction_attribute_95', 'transaction_attribute_96', 'transaction_attribute_97', 'transaction_attribute_98', 'transaction_attribute_99', 'transaction_attribute_100', 'transaction_attribute_101', 'transaction_attribute_102', 'transaction_attribute_103', 'transaction_attribute_104', 'transaction_attribute_105', 'transaction_attribute_106', 'transaction_attribute_107', 'transaction_attribute_108', 'transaction_attribute_109', 'transaction_attribute_110', 'transaction_attribute_111', 'transaction_attribute_112', 'transaction_attribute_113', 'transaction_attribute_114', 'transaction_attribute_115', 'transaction_attribute_116', 'transaction_attribute_117', 'transaction_attribute_118', 'transaction_attribute_119', 'transaction_attribute_120', 'transaction_attribute_121', 'transaction_attribute_122', 'transaction_attribute_123', 'transaction_attribute_124', 'transaction_attribute_125', 'transaction_attribute_126', 'transaction_attribute_127', 'transaction_attribute_128', 'transaction_attribute_129', 'transaction_attribute_130', 'transaction_attribute_131', 'transaction_attribute_132', 'transaction_attribute_133', 'transaction_attribute_134', 'transaction_attribute_135', 'transaction_attribute_136', 'transaction_attribute_137', 'transaction_attribute_138', 'transaction_attribute_139', 'transaction_attribute_140', 'transaction_attribute_141', 'transaction_attribute_142', 'transaction_attribute_143', 'transaction_attribute_144', 'transaction_attribute_145', 'transaction_attribute_146', 'transaction_attribute_147', 'transaction_attribute_148', 'transaction_attribute_149', 'transaction_attribute_150', 'transaction_attribute_151', 'transaction_attribute_152', 'transaction_attribute_153', 'transaction_attribute_154', 'transaction_attribute_155', 'transaction_attribute_156', 'transaction_attribute_157', 'transaction_attribute_158', 'transaction_attribute_159', 'transaction_attribute_160', 'transaction_attribute_161', 'transaction_attribute_162', 'transaction_attribute_163', 'transaction_attribute_164', 'transaction_attribute_165', 'transaction_attribute_166', 'transaction_attribute_167', 'transaction_attribute_168', 'transaction_attribute_169', 'transaction_attribute_170', 'transaction_attribute_171', 'transaction_attribute_172', 'transaction_attribute_173', 'transaction_attribute_174', 'transaction_attribute_175', 'transaction_attribute_176', 'transaction_attribute_177', 'transaction_attribute_178', 'transaction_attribute_179', 'transaction_attribute_180', 'transaction_attribute_181', 'transaction_attribute_182', 'transaction_attribute_183', 'transaction_attribute_184', 'transaction_attribute_185', 'transaction_attribute_186', 'transaction_attribute_187', 'transaction_attribute_188', 'transaction_attribute_189', 'transaction_attribute_190', 'transaction_attribute_191', 'transaction_attribute_192', 'transaction_attribute_193', 'transaction_attribute_194', 'transaction_attribute_195', 'transaction_attribute_196', 'transaction_attribute_197', 'transaction_attribute_198', 'transaction_attribute_199', 'transaction_attribute_200', 'transaction_attribute_201', 'transaction_attribute_202', 'transaction_attribute_203', 'transaction_attribute_204', 'transaction_attribute_205', 'transaction_attribute_206', 'transaction_attribute_207', 'transaction_attribute_208', 'transaction_attribute_209', 'transaction_attribute_210', 'transaction_attribute_211', 'transaction_attribute_212', 'transaction_attribute_213', 'transaction_attribute_214', 'transaction_attribute_215', 'transaction_attribute_216', 'transaction_attribute_217', 'transaction_attribute_218', 'transaction_attribute_219', 'transaction_attribute_220', 'transaction_attribute_221', 'transaction_attribute_222', 'transaction_attribute_223', 'transaction_attribute_224', 'transaction_attribute_225', 'transaction_attribute_226', 'transaction_attribute_227', 'transaction_attribute_228', 'transaction_attribute_229', 'transaction_attribute_230', 'transaction_attribute_231', 'transaction_attribute_232', 'transaction_attribute_233', 'transaction_attribute_234', 'transaction_attribute_235', 'transaction_attribute_236', 'transaction_attribute_237', 'transaction_attribute_238', 'transaction_attribute_239', 'transaction_attribute_240', 'transaction_attribute_241', 'transaction_attribute_242', 'transaction_attribute_243', 'transaction_attribute_244', 'transaction_attribute_245', 'transaction_attribute_246', 'transaction_attribute_247', 'transaction_attribute_248', 'transaction_attribute_249', 'transaction_attribute_250', 'transaction_attribute_251', 'transaction_attribute_252', 'transaction_attribute_253', 'transaction_attribute_254', 'transaction_attribute_255', 'transaction_attribute_256', 'transaction_attribute_257', 'transaction_attribute_258', 'transaction_attribute_259', 'transaction_attribute_260', 'transaction_attribute_261', 'transaction_attribute_262', 'transaction_attribute_263', 'transaction_attribute_264', 'transaction_attribute_265', 'transaction_attribute_266', 'transaction_attribute_267', 'transaction_attribute_268', 'transaction_attribute_269', 'transaction_attribute_270', 'transaction_attribute_271', 'transaction_attribute_272', 'transaction_attribute_273', 'transaction_attribute_274', 'transaction_attribute_275', 'transaction_attribute_276', 'transaction_attribute_277', 'transaction_attribute_278', 'transaction_attribute_279', 'transaction_attribute_280', 'transaction_attribute_281', 'transaction_attribute_282', 'transaction_attribute_283', 'transaction_attribute_284', 'transaction_attribute_285', 'transaction_attribute_286', 'transaction_attribute_287', 'transaction_attribute_288', 'transaction_attribute_289', 'transaction_attribute_290', 'transaction_attribute_291', 'transaction_attribute_292', 'transaction_attribute_293', 'transaction_attribute_294', 'transaction_attribute_295', 'transaction_attribute_296', 'transaction_attribute_297', 'transaction_attribute_298', 'transaction_attribute_299', 'transaction_attribute_300', 'transaction_attribute_301', 'transaction_attribute_302', 'transaction_attribute_303', 'transaction_attribute_304', 'transaction_attribute_305', 'transaction_attribute_306', 'transaction_attribute_307', 'transaction_attribute_308', 'transaction_attribute_309', 'transaction_attribute_310', 'transaction_attribute_311', 'transaction_attribute_312', 'transaction_attribute_313', 'transaction_attribute_314', 'transaction_attribute_315', 'transaction_attribute_316', 'transaction_attribute_317', 'transaction_attribute_318', 'transaction_attribute_319', 'transaction_attribute_320', 'transaction_attribute_321', 'transaction_attribute_322', 'transaction_attribute_323', 'transaction_attribute_324', 'transaction_attribute_325', 'transaction_attribute_326', 'transaction_attribute_327', 'transaction_attribute_328', 'transaction_attribute_329', 'transaction_attribute_330', 'transaction_attribute_331', 'transaction_attribute_332', 'transaction_attribute_333', 'transaction_attribute_334', 'transaction_attribute_335', 'transaction_attribute_336', 'transaction_attribute_337', 'transaction_attribute_338', 'transaction_attribute_339', 'transaction_attribute_340', 'transaction_attribute_341', 'transaction_attribute_342', 'transaction_attribute_343', 'transaction_attribute_344', 'transaction_attribute_345', 'transaction_attribute_346', 'transaction_attribute_347', 'transaction_attribute_348', 'transaction_attribute_349', 'transaction_attribute_350', 'transaction_attribute_351', 'transaction_attribute_352', 'transaction_attribute_353', 'transaction_attribute_354', 'transaction_attribute_355', 'transaction_attribute_356', 'transaction_attribute_357', 'transaction_attribute_358', 'transaction_attribute_359', 'transaction_attribute_360', 'transaction_attribute_361', 'transaction_attribute_362', 'transaction_attribute_363', 'transaction_attribute_364', 'transaction_attribute_365', 'transaction_attribute_366', 'transaction_attribute_367', 'transaction_attribute_368', 'transaction_attribute_369', 'transaction_attribute_370', 'transaction_attribute_371', 'transaction_attribute_372', 'transaction_attribute_373', 'transaction_attribute_374', 'transaction_attribute_375', 'transaction_attribute_376', 'transaction_attribute_377', 'transaction_attribute_378', 'transaction_attribute_379', 'transaction_attribute_380', 'transaction_attribute_381', 'transaction_attribute_382', 'transaction_attribute_383', 'transaction_attribute_384', 'transaction_attribute_385', 'transaction_attribute_386', 'transaction_attribute_387', 'transaction_attribute_388', 'transaction_attribute_389', 'transaction_attribute_390', 'transaction_attribute_391', 'transaction_attribute_392', 'transaction_attribute_393', 'transaction_attribute_394', 'transaction_attribute_395', 'transaction_attribute_396', 'transaction_attribute_397', 'transaction_attribute_398', 'transaction_attribute_399', 'transaction_attribute_400', 'transaction_attribute_401', 'transaction_attribute_402', 'transaction_attribute_403', 'transaction_attribute_404', 'transaction_attribute_405', 'transaction_attribute_406', 'transaction_attribute_407', 'transaction_attribute_408', 'transaction_attribute_409', 'transaction_attribute_410', 'transaction_attribute_411', 'transaction_attribute_412', 'transaction_attribute_413', 'transaction_attribute_414', 'transaction_attribute_415', 'transaction_attribute_416', 'transaction_attribute_417', 'transaction_attribute_418', 'transaction_attribute_419', 'transaction_attribute_420', 'transaction_attribute_421', 'transaction_attribute_422', 'transaction_attribute_423', 'transaction_attribute_424', 'transaction_attribute_425', 'transaction_attribute_426', 'transaction_attribute_427', 'transaction_attribute_428', 'transaction_attribute_429', 'transaction_attribute_430', 'transaction_attribute_431', 'transaction_attribute_432', 'transaction_attribute_433', 'transaction_attribute_434', 'transaction_attribute_435', 'transaction_attribute_436', 'transaction_attribute_437', 'transaction_attribute_438', 'transaction_attribute_439', 'transaction_attribute_440', 'transaction_attribute_441', 'transaction_attribute_442', 'transaction_attribute_443', 'transaction_attribute_444', 'transaction_attribute_445', 'transaction_attribute_446', 'transaction_attribute_447', 'transaction_attribute_448', 'transaction_attribute_449', 'transaction_attribute_450', 'transaction_attribute_451', 'transaction_attribute_452', 'transaction_attribute_453', 'transaction_attribute_454', 'transaction_attribute_455', 'transaction_attribute_456', 'transaction_attribute_457', 'transaction_attribute_458', 'transaction_attribute_459', 'transaction_attribute_460', 'transaction_attribute_461', 'transaction_attribute_462', 'transaction_attribute_463', 'transaction_attribute_464', 'transaction_attribute_465', 'transaction_attribute_466', 'transaction_attribute_467', 'transaction_attribute_468', 'transaction_attribute_469', 'transaction_attribute_470', 'transaction_attribute_471', 'transaction_attribute_472', 'transaction_attribute_473', 'transaction_attribute_474', 'transaction_attribute_475', 'transaction_attribute_476', 'transaction_attribute_477', 'transaction_attribute_478', 'transaction_attribute_479', 'transaction_attribute_480', 'transaction_attribute_481', 'transaction_attribute_482', 'transaction_attribute_483', 'transaction_attribute_484', 'transaction_attribute_485', 'transaction_attribute_486', 'transaction_attribute_487', 'transaction_attribute_488', 'transaction_attribute_489', 'transaction_attribute_490', 'transaction_attribute_491', 'transaction_attribute_492', 'transaction_attribute_493', 'transaction_attribute_494', 'transaction_attribute_495', 'transaction_attribute_496', 'transaction_attribute_497', 'transaction_attribute_498', 'transaction_attribute_499', 'transaction_attribute_500', 'transaction_attribute_501', 'transaction_attribute_502', 'transaction_attribute_503', 'transaction_attribute_504', 'transaction_attribute_505', 'transaction_attribute_506', 'transaction_attribute_507', 'transaction_attribute_508', 'transaction_attribute_509', 'transaction_attribute_510', 'transaction_attribute_511', 'transaction_attribute_512', 'transaction_attribute_513', 'transaction_attribute_514', 'transaction_attribute_515', 'transaction_attribute_516', 'transaction_attribute_517', 'transaction_attribute_518', 'transaction_attribute_519', 'transaction_attribute_520', 'transaction_attribute_521', 'transaction_attribute_522', 'transaction_attribute_523', 'transaction_attribute_524', 'transaction_attribute_525', 'transaction_attribute_526', 'transaction_attribute_527', 'transaction_attribute_528', 'transaction_attribute_529', 'transaction_attribute_530', 'transaction_attribute_531', 'transaction_attribute_532', 'transaction_attribute_533', 'transaction_attribute_534', 'transaction_attribute_535', 'transaction_attribute_536', 'transaction_attribute_537', 'transaction_attribute_538', 'transaction_attribute_539', 'transaction_attribute_540', 'transaction_attribute_541', 'transaction_attribute_542', 'transaction_attribute_543', 'transaction_attribute_544', 'transaction_attribute_545', 'transaction_attribute_546', 'transaction_attribute_547', 'transaction_attribute_548', 'transaction_attribute_549', 'transaction_attribute_550', 'transaction_attribute_551', 'transaction_attribute_552', 'transaction_attribute_553', 'transaction_attribute_554', 'transaction_attribute_555', 'transaction_attribute_556', 'transaction_attribute_557', 'transaction_attribute_558', 'transaction_attribute_559', 'transaction_attribute_560', 'transaction_attribute_561', 'transaction_attribute_562', 'transaction_attribute_563', 'transaction_attribute_564', 'transaction_attribute_565', 'transaction_attribute_566', 'transaction_attribute_567', 'transaction_attribute_568', 'transaction_attribute_569', 'transaction_attribute_570', 'transaction_attribute_571', 'transaction_attribute_572', 'transaction_attribute_573', 'transaction_attribute_574', 'transaction_attribute_575', 'transaction_attribute_576', 'transaction_attribute_577', 'transaction_attribute_578', 'transaction_attribute_579', 'transaction_attribute_580', 'transaction_attribute_581', 'transaction_attribute_582', 'transaction_attribute_583', 'transaction_attribute_584', 'transaction_attribute_585', 'transaction_attribute_586', 'transaction_attribute_587', 'transaction_attribute_588', 'transaction_attribute_589', 'transaction_attribute_590', 'transaction_attribute_591', 'transaction_attribute_592', 'transaction_attribute_593', 'transaction_attribute_594', 'transaction_attribute_595', 'transaction_attribute_596', 'transaction_attribute_597', 'transaction_attribute_598', 'transaction_attribute_599', 'transaction_attribute_600', 'transaction_attribute_601', 'transaction_attribute_602', 'transaction_attribute_603', 'transaction_attribute_604', 'transaction_attribute_605', 'transaction_attribute_606', 'transaction_attribute_607', 'transaction_attribute_608', 'transaction_attribute_609', 'transaction_attribute_610', 'transaction_attribute_611', 'transaction_attribute_612', 'transaction_attribute_613', 'transaction_attribute_614', 'transaction_attribute_615', 'transaction_attribute_616', 'transaction_attribute_617', 'transaction_attribute_618', 'transaction_attribute_619', 'transaction_attribute_620', 'transaction_attribute_621', 'transaction_attribute_622', 'transaction_attribute_623', 'transaction_attribute_624', 'transaction_attribute_625', 'transaction_attribute_626', 'transaction_attribute_627', 'transaction_attribute_628', 'transaction_attribute_629', 'transaction_attribute_630', 'transaction_attribute_631', 'transaction_attribute_632', 'transaction_attribute_633', 'transaction_attribute_634', 'transaction_attribute_635', 'transaction_attribute_636', 'transaction_attribute_637', 'transaction_attribute_638', 'transaction_attribute_639', 'transaction_attribute_640', 'transaction_attribute_641', 'transaction_attribute_642', 'transaction_attribute_643', 'transaction_attribute_644', 'transaction_attribute_645', 'transaction_attribute_646', 'transaction_attribute_647', 'transaction_attribute_648', 'transaction_attribute_649', 'transaction_attribute_650', 'transaction_attribute_651', 'transaction_attribute_652', 'transaction_attribute_653', 'transaction_attribute_654', 'transaction_attribute_655', 'transaction_attribute_656', 'transaction_attribute_657', 'transaction_attribute_658', 'transaction_attribute_659', 'transaction_attribute_660', 'transaction_attribute_661', 'transaction_attribute_662', 'transaction_attribute_663', 'transaction_attribute_664', 'bureau_1', 'bureau_2', 'bureau_3', 'bureau_4', 'bureau_5', 'bureau_6', 'bureau_7', 'bureau_8', 'bureau_9', 'bureau_10', 'bureau_11', 'bureau_12', 'bureau_13', 'bureau_14', 'bureau_15', 'bureau_16', 'bureau_17', 'bureau_18', 'bureau_19', 'bureau_20', 'bureau_21', 'bureau_22', 'bureau_23', 'bureau_24', 'bureau_25', 'bureau_26', 'bureau_27', 'bureau_28', 'bureau_29', 'bureau_30', 'bureau_31', 'bureau_32', 'bureau_33', 'bureau_34', 'bureau_35', 'bureau_36', 'bureau_37', 'bureau_38', 'bureau_39', 'bureau_40', 'bureau_41', 'bureau_42', 'bureau_43', 'bureau_44', 'bureau_45', 'bureau_46', 'bureau_47', 'bureau_48', 'bureau_49', 'bureau_50', 'bureau_51', 'bureau_52', 'bureau_53', 'bureau_54', 'bureau_55', 'bureau_56', 'bureau_57', 'bureau_58', 'bureau_59', 'bureau_60', 'bureau_61', 'bureau_62', 'bureau_63', 'bureau_64', 'bureau_65', 'bureau_66', 'bureau_67', 'bureau_68', 'bureau_69', 'bureau_70', 'bureau_71', 'bureau_72', 'bureau_73', 'bureau_74', 'bureau_75', 'bureau_76', 'bureau_77', 'bureau_78', 'bureau_79', 'bureau_80', 'bureau_81', 'bureau_82', 'bureau_83', 'bureau_84', 'bureau_85', 'bureau_86', 'bureau_87', 'bureau_88', 'bureau_89', 'bureau_90', 'bureau_91', 'bureau_92', 'bureau_93', 'bureau_94', 'bureau_95', 'bureau_96', 'bureau_97', 'bureau_98', 'bureau_99', 'bureau_100', 'bureau_101', 'bureau_102', 'bureau_103', 'bureau_104', 'bureau_105', 'bureau_106', 'bureau_107', 'bureau_108', 'bureau_109', 'bureau_110', 'bureau_111', 'bureau_112', 'bureau_113', 'bureau_114', 'bureau_115', 'bureau_116', 'bureau_117', 'bureau_118', 'bureau_119', 'bureau_120', 'bureau_121', 'bureau_122', 'bureau_123', 'bureau_124', 'bureau_125', 'bureau_126', 'bureau_127', 'bureau_128', 'bureau_129', 'bureau_130', 'bureau_131', 'bureau_132', 'bureau_133', 'bureau_134', 'bureau_135', 'bureau_136', 'bureau_137', 'bureau_138', 'bureau_139', 'bureau_140', 'bureau_141', 'bureau_142', 'bureau_143', 'bureau_144', 'bureau_145', 'bureau_146', 'bureau_147', 'bureau_148', 'bureau_149', 'bureau_150', 'bureau_151', 'bureau_152', 'bureau_153', 'bureau_154', 'bureau_155', 'bureau_156', 'bureau_157', 'bureau_158', 'bureau_159', 'bureau_160', 'bureau_161', 'bureau_162', 'bureau_163', 'bureau_164', 'bureau_165', 'bureau_166', 'bureau_167', 'bureau_168', 'bureau_169', 'bureau_170', 'bureau_171', 'bureau_172', 'bureau_173', 'bureau_174', 'bureau_175', 'bureau_176', 'bureau_177', 'bureau_178', 'bureau_179', 'bureau_180', 'bureau_181', 'bureau_182', 'bureau_183', 'bureau_184', 'bureau_185', 'bureau_186', 'bureau_187', 'bureau_188', 'bureau_189', 'bureau_190', 'bureau_191', 'bureau_192', 'bureau_193', 'bureau_194', 'bureau_195', 'bureau_196', 'bureau_197', 'bureau_198', 'bureau_199', 'bureau_200', 'bureau_201', 'bureau_202', 'bureau_203', 'bureau_204', 'bureau_205', 'bureau_206', 'bureau_207', 'bureau_208', 'bureau_209', 'bureau_210', 'bureau_211', 'bureau_212', 'bureau_213', 'bureau_214', 'bureau_215', 'bureau_216', 'bureau_217', 'bureau_218', 'bureau_219', 'bureau_220', 'bureau_221', 'bureau_222', 'bureau_223', 'bureau_224', 'bureau_225', 'bureau_226', 'bureau_227', 'bureau_228', 'bureau_229', 'bureau_230', 'bureau_231', 'bureau_232', 'bureau_233', 'bureau_234', 'bureau_235', 'bureau_236', 'bureau_237', 'bureau_238', 'bureau_239', 'bureau_240', 'bureau_241', 'bureau_242', 'bureau_243', 'bureau_244', 'bureau_245', 'bureau_246', 'bureau_247', 'bureau_248', 'bureau_249', 'bureau_250', 'bureau_251', 'bureau_252', 'bureau_253', 'bureau_254', 'bureau_255', 'bureau_256', 'bureau_257', 'bureau_258', 'bureau_259', 'bureau_260', 'bureau_261', 'bureau_262', 'bureau_263', 'bureau_264', 'bureau_265', 'bureau_266', 'bureau_267', 'bureau_268', 'bureau_269', 'bureau_270', 'bureau_271', 'bureau_272', 'bureau_273', 'bureau_274', 'bureau_275', 'bureau_276', 'bureau_277', 'bureau_278', 'bureau_279', 'bureau_280', 'bureau_281', 'bureau_282', 'bureau_283', 'bureau_284', 'bureau_285', 'bureau_286', 'bureau_287', 'bureau_288', 'bureau_289', 'bureau_290', 'bureau_291', 'bureau_292', 'bureau_293', 'bureau_294', 'bureau_295', 'bureau_296', 'bureau_297', 'bureau_298', 'bureau_299', 'bureau_300', 'bureau_301', 'bureau_302', 'bureau_303', 'bureau_304', 'bureau_305', 'bureau_306', 'bureau_307', 'bureau_308', 'bureau_309', 'bureau_310', 'bureau_311', 'bureau_312', 'bureau_313', 'bureau_314', 'bureau_315', 'bureau_316', 'bureau_317', 'bureau_318', 'bureau_319', 'bureau_320', 'bureau_321', 'bureau_322', 'bureau_323', 'bureau_324', 'bureau_325', 'bureau_326', 'bureau_327', 'bureau_328', 'bureau_329', 'bureau_330', 'bureau_331', 'bureau_332', 'bureau_333', 'bureau_334', 'bureau_335', 'bureau_336', 'bureau_337', 'bureau_338', 'bureau_339', 'bureau_340', 'bureau_341', 'bureau_342', 'bureau_343', 'bureau_344', 'bureau_345', 'bureau_346', 'bureau_347', 'bureau_348', 'bureau_349', 'bureau_350', 'bureau_351', 'bureau_352', 'bureau_353', 'bureau_354', 'bureau_355', 'bureau_356', 'bureau_357', 'bureau_358', 'bureau_359', 'bureau_360', 'bureau_361', 'bureau_362', 'bureau_363', 'bureau_364', 'bureau_365', 'bureau_366', 'bureau_367', 'bureau_368', 'bureau_369', 'bureau_370', 'bureau_371', 'bureau_372', 'bureau_373', 'bureau_374', 'bureau_375', 'bureau_376', 'bureau_377', 'bureau_378', 'bureau_379', 'bureau_380', 'bureau_381', 'bureau_382', 'bureau_383', 'bureau_384', 'bureau_385', 'bureau_386', 'bureau_387', 'bureau_388', 'bureau_389', 'bureau_390', 'bureau_391', 'bureau_392', 'bureau_393', 'bureau_394', 'bureau_395', 'bureau_396', 'bureau_397', 'bureau_398', 'bureau_399', 'bureau_400', 'bureau_401', 'bureau_402', 'bureau_403', 'bureau_404', 'bureau_405', 'bureau_406', 'bureau_407', 'bureau_408', 'bureau_409', 'bureau_410', 'bureau_411', 'bureau_412', 'bureau_413', 'bureau_414', 'bureau_415', 'bureau_416', 'bureau_417', 'bureau_418', 'bureau_419', 'bureau_420', 'bureau_421', 'bureau_422', 'bureau_423', 'bureau_424', 'bureau_425', 'bureau_426', 'bureau_427', 'bureau_428', 'bureau_429', 'bureau_430', 'bureau_431', 'bureau_432', 'bureau_433', 'bureau_434', 'bureau_435', 'bureau_436', 'bureau_437', 'bureau_438', 'bureau_439', 'bureau_440', 'bureau_441', 'bureau_442', 'bureau_443', 'bureau_444', 'bureau_445', 'bureau_446', 'bureau_447', 'bureau_448', 'bureau_449', 'bureau_450', 'bureau_451', 'bureau_452', 'onus_attribute_2', 'onus_attribute_3', 'onus_attribute_4', 'onus_attribute_5', 'onus_attribute_6', 'onus_attribute_7', 'onus_attribute_8', 'onus_attribute_9', 'onus_attribute_10', 'onus_attribute_11', 'onus_attribute_12', 'onus_attribute_13', 'onus_attribute_14', 'onus_attribute_15', 'onus_attribute_16', 'onus_attribute_17', 'onus_attribute_18', 'onus_attribute_19', 'onus_attribute_20', 'onus_attribute_21', 'onus_attribute_22', 'onus_attribute_23', 'onus_attribute_24', 'onus_attribute_25', 'onus_attribute_26', 'onus_attribute_27', 'onus_attribute_28', 'onus_attribute_29', 'onus_attribute_30', 'onus_attribute_31', 'onus_attribute_32', 'onus_attribute_33', 'onus_attribute_34', 'onus_attribute_35', 'onus_attribute_36', 'onus_attribute_37', 'onus_attribute_38', 'onus_attribute_39', 'onus_attribute_40', 'onus_attribute_41', 'onus_attribute_42', 'bureau_enquiry_1', 'bureau_enquiry_2', 'bureau_enquiry_3', 'bureau_enquiry_4', 'bureau_enquiry_5', 'bureau_enquiry_6', 'bureau_enquiry_7', 'bureau_enquiry_8', 'bureau_enquiry_9', 'bureau_enquiry_10', 'bureau_enquiry_11', 'bureau_enquiry_12', 'bureau_enquiry_13', 'bureau_enquiry_14', 'bureau_enquiry_15', 'bureau_enquiry_16', 'bureau_enquiry_17', 'bureau_enquiry_18', 'bureau_enquiry_19', 'bureau_enquiry_20', 'bureau_enquiry_21', 'bureau_enquiry_22', 'bureau_enquiry_23', 'bureau_enquiry_24', 'bureau_enquiry_25', 'bureau_enquiry_26', 'bureau_enquiry_27', 'bureau_enquiry_28', 'bureau_enquiry_29', 'bureau_enquiry_30', 'bureau_enquiry_31', 'bureau_enquiry_32', 'bureau_enquiry_33', 'bureau_enquiry_34', 'bureau_enquiry_35', 'bureau_enquiry_36', 'bureau_enquiry_37', 'bureau_enquiry_38', 'bureau_enquiry_39', 'bureau_enquiry_40', 'bureau_enquiry_41', 'bureau_enquiry_42', 'bureau_enquiry_43', 'bureau_enquiry_44', 'bureau_enquiry_45', 'bureau_enquiry_46', 'bureau_enquiry_47', 'bureau_enquiry_48', 'bureau_enquiry_49', 'bureau_enquiry_50', 'onus_attribute_43', 'onus_attribute_44', 'onus_attribute_45', 'onus_attribute_46', 'onus_attribute_47', 'onus_attribute_48', 'txn_sum', 'txn_mean', 'txn_max', 'txn_min', 'bureau_sum', 'bureau_mean', 'bureau_max', 'bureau_min', 'bureau_enquiry_sum', 'bureau_enquiry_mean', 'bureau_enquiry_max', 'bureau_enquiry_min', 'feat_diff_bureau_vs_enquiry_mean', 'feat_ratio_bureau_enquiry_sum', 'log_txn_sum', 'log_txn_mean', 'log_txn_max', 'log_bureau_sum', 'log_bureau_mean', 'log_bureau_max', 'log_bureau_enquiry_sum', 'log_bureau_enquiry_mean', 'log_bureau_enquiry_max', 'log_feat_diff_bureau_vs_enquiry_mean', 'log_feat_ratio_bureau_enquiry_sum', 'bin_txn_sum_quartile', 'predictions_xgb', 'predictions_cat', 'bad_flag']\n"
     ]
    },
    {
     "name": "stderr",
     "output_type": "stream",
     "text": [
      "/tmp/ipykernel_7905/3220480222.py:11: UserWarning: You are merging on int and float columns where the float values are not equal to their int representation.\n",
      "  df_merged = pd.merge(\n"
     ]
    },
    {
     "name": "stdout",
     "output_type": "stream",
     "text": [
      "Total rows compared: 40956\n",
      "Number with SAME bad_flag: 35389\n",
      "Number with DIFFERENT bad_flag: 5567\n",
      "\n",
      "Sample rows where the bad_flag doesn't match:\n",
      "    account_number  onus_attribute_1_file1  transaction_attribute_1_file1  \\\n",
      "1           100420                     NaN                            NaN   \n",
      "17          100436                 38000.0                            0.0   \n",
      "18          100437                 65000.0                            0.0   \n",
      "21          100440                 25000.0                            0.0   \n",
      "22          100441                 27000.0                            0.0   \n",
      "\n",
      "    transaction_attribute_2_file1  transaction_attribute_3_file1  \\\n",
      "1                             NaN                            NaN   \n",
      "17                            0.0                            0.0   \n",
      "18                            0.0                            0.0   \n",
      "21                            0.0                            0.0   \n",
      "22                            0.0                            0.0   \n",
      "\n",
      "    transaction_attribute_4_file1  transaction_attribute_5_file1  \\\n",
      "1                             NaN                            NaN   \n",
      "17                            0.0                            0.0   \n",
      "18                            0.0                            0.0   \n",
      "21                            0.0                            0.0   \n",
      "22                            0.0                            0.0   \n",
      "\n",
      "    transaction_attribute_6_file1  transaction_attribute_7_file1  \\\n",
      "1                             NaN                            NaN   \n",
      "17                            0.0                            0.0   \n",
      "18                            0.0                            0.0   \n",
      "21                            0.0                            0.0   \n",
      "22                            0.0                            0.0   \n",
      "\n",
      "    transaction_attribute_8_file1  ...  log_bureau_enquiry_sum  \\\n",
      "1                             NaN  ...                5.393628   \n",
      "17                            0.0  ...                3.784190   \n",
      "18                            0.0  ...                4.820282   \n",
      "21                            0.0  ...                0.000000   \n",
      "22                            0.0  ...                3.951244   \n",
      "\n",
      "    log_bureau_enquiry_mean  log_bureau_enquiry_max  \\\n",
      "1                  1.682688                3.091042   \n",
      "17                 0.620576                2.302585   \n",
      "18                 1.241269                2.833213   \n",
      "21                 0.000000                0.000000   \n",
      "22                 0.703098                2.302585   \n",
      "\n",
      "    log_feat_diff_bureau_vs_enquiry_mean  log_feat_ratio_bureau_enquiry_sum  \\\n",
      "1                               9.249578                           9.974560   \n",
      "17                              8.405899                          10.758371   \n",
      "18                              9.577996                          10.879614   \n",
      "21                              0.000000                           0.000000   \n",
      "22                              6.245651                           8.427765   \n",
      "\n",
      "    bin_txn_sum_quartile  predictions_xgb  predictions_cat  bad_flag_file2  \\\n",
      "1                      0                1                1               1   \n",
      "17                     1                1                1               1   \n",
      "18                     1                1                1               1   \n",
      "21                     1                1                1               1   \n",
      "22                     1                1                1               1   \n",
      "\n",
      "    same_bad_flag  \n",
      "1               0  \n",
      "17              0  \n",
      "18              0  \n",
      "21              0  \n",
      "22              0  \n",
      "\n",
      "[5 rows x 2460 columns]\n",
      "\n",
      "Merged comparison file: comparison_of_predictions.csv\n"
     ]
    }
   ],
   "source": [
    "import pandas as pd\n",
    "\n",
    "# 1. Read two different CSV files with predictions\n",
    "#    Each should have at least: \"account_number\" and \"bad_flag\" (or \"predicted_bad_flag\").\n",
    "df1 = pd.read_csv(\"/home/harsh/Hackathons/Convolve/ensemble_predictions.csv\")\n",
    "df2 = pd.read_csv(\"/home/harsh/Hackathons/Convolve/predictions_output.csv\")\n",
    "\n",
    "print(\"df1 columns:\", df1.columns.tolist())\n",
    "print(\"df2 columns:\", df2.columns.tolist())\n",
    "\n",
    "df_merged = pd.merge(\n",
    "    df1,\n",
    "    df2,\n",
    "    on=\"account_number\",\n",
    "    how=\"inner\",\n",
    "    suffixes=(\"_file1\", \"_file2\")\n",
    ")\n",
    "\n",
    "\n",
    "# 3. Create a column to show if they have the same bad_flag\n",
    "#    (This assumes both columns are named \"bad_flag_file1\" and \"bad_flag_file2\"\n",
    "#    after the merge.)\n",
    "df_merged[\"same_bad_flag\"] = (\n",
    "    df_merged[\"bad_flag_file1\"] == df_merged[\"bad_flag_file2\"]\n",
    ").astype(int)\n",
    "\n",
    "# 4. Count how many have the same bad_flag vs different\n",
    "total_rows = len(df_merged)\n",
    "num_same = df_merged[\"same_bad_flag\"].sum()\n",
    "num_different = total_rows - num_same\n",
    "\n",
    "print(f\"Total rows compared: {total_rows}\")\n",
    "print(f\"Number with SAME bad_flag: {num_same}\")\n",
    "print(f\"Number with DIFFERENT bad_flag: {num_different}\")\n",
    "\n",
    "# 5. (Optional) Inspect accounts that differ\n",
    "df_diff = df_merged[df_merged[\"same_bad_flag\"] == 0]\n",
    "print(\"\\nSample rows where the bad_flag doesn't match:\")\n",
    "print(df_diff.head())\n",
    "\n",
    "# 6. (Optional) Save the merged comparison to a new CSV\n",
    "df_merged.to_csv(\"comparison_of_predictions.csv\", index=False)\n",
    "print(\"\\nMerged comparison file: comparison_of_predictions.csv\")\n"
   ]
  },
  {
   "cell_type": "code",
   "execution_count": null,
   "metadata": {},
   "outputs": [],
   "source": []
  },
  {
   "cell_type": "code",
   "execution_count": null,
   "metadata": {},
   "outputs": [],
   "source": []
  }
 ],
 "metadata": {
  "kernelspec": {
   "display_name": "venv",
   "language": "python",
   "name": "python3"
  },
  "language_info": {
   "codemirror_mode": {
    "name": "ipython",
    "version": 3
   },
   "file_extension": ".py",
   "mimetype": "text/x-python",
   "name": "python",
   "nbconvert_exporter": "python",
   "pygments_lexer": "ipython3",
   "version": "3.12.7"
  }
 },
 "nbformat": 4,
 "nbformat_minor": 2
}
